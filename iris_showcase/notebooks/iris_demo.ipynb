{
 "cells": [
  {
   "cell_type": "markdown",
   "metadata": {},
   "source": [
    "# Iris Classification Demo",
    "\n",
    "This notebook demonstrates a simple workflow for classifying flowers from the Iris dataset using a logistic regression model."
   ]
  },
  {
   "cell_type": "code",
   "execution_count": null,
   "metadata": {},
   "outputs": [],
   "source": [
    "from sklearn.datasets import load_iris",
    "from sklearn.model_selection import train_test_split",
    "from sklearn.linear_model import LogisticRegression",
    "from sklearn.metrics import accuracy_score",
    "import pandas as pd"
   ]
  },
  {
   "cell_type": "code",
   "execution_count": null,
   "metadata": {},
   "outputs": [],
   "source": [
    "iris = load_iris(as_frame=True)",
    "X = iris.data",
    "y = iris.target",
    "X_train, X_test, y_train, y_test = train_test_split(X, y, test_size=0.2, random_state=42, stratify=y)",
    "model = LogisticRegression(max_iter=200)",
    "model.fit(X_train, y_train)",
    "preds = model.predict(X_test)",
    "print('Accuracy:', accuracy_score(y_test, preds))"
   ]
  }
 ],
 "metadata": {
  "kernelspec": {
   "display_name": "Python 3",
   "language": "python",
   "name": "python3"
  },
  "language_info": {
   "name": "python",
   "version": "3.x"
  }
 },
 "nbformat": 4,
 "nbformat_minor": 5
}
